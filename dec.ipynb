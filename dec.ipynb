{
  "cells": [
    {
      "cell_type": "code",
      "execution_count": null,
      "id": "0de0fa3b-293f-473c-92d8-a81031820d54",
      "metadata": {
        "trusted": true
      },
      "outputs": [],
      "source": [
        "import pandas as pd\n",
        "import numpy as np\n",
        "from sklearn.model_selection import train_test_split\n",
        "from sklearn.preprocessing import LabelEncoder, StandardScaler\n",
        "from sklearn.metrics import accuracy_score, precision_score, recall_score, f1_score, classification_report\n",
        "from sklearn.tree import DecisionTreeClassifier\n",
        "import pickle"
      ]
    },
    {
      "cell_type": "code",
      "execution_count": 3,
      "id": "00499e9c-bb02-4022-a298-575b21790e8c",
      "metadata": {
        "trusted": true
      },
      "outputs": [
        {
          "name": "stdout",
          "output_type": "stream",
          "text": [
            "There are  100 rice samples\n",
            "There are  100 maize samples\n",
            "There are  100 jute samples\n",
            "There are  100 cotton samples\n",
            "There are  100 coconut samples\n",
            "There are  100 papaya samples\n",
            "There are  100 orange samples\n",
            "There are  100 apple samples\n",
            "There are  100 muskmelon samples\n",
            "There are  100 watermelon samples\n",
            "There are  100 grapes samples\n",
            "There are  100 mango samples\n",
            "There are  100 banana samples\n",
            "There are  100 pomegranate samples\n",
            "There are  100 lentil samples\n",
            "There are  100 blackgram samples\n",
            "There are  100 mungbean samples\n",
            "There are  100 mothbeans samples\n",
            "There are  100 pigeonpeas samples\n",
            "There are  100 kidneybeans samples\n",
            "There are  100 chickpea samples\n",
            "There are  100 coffee samples\n"
          ]
        }
      ],
      "source": [
        "df = pd.read_csv(\"Crop_recommendation.csv\")\n",
        "\n",
        "# Encode labels\n",
        "le = LabelEncoder()\n",
        "df['label'] = le.fit_transform(df['label'])\n",
        "\n",
        "# Show class distribution\n",
        "label_counts = df['label'].value_counts()\n",
        "label_names = le.inverse_transform(label_counts.index)\n",
        "for name, count in zip(label_names, label_counts):\n",
        "    print(f\"There are  {count} {name} samples\")"
      ]
    },
    {
      "cell_type": "code",
      "execution_count": 4,
      "id": "1d4ba5ad-c1d5-4016-9b1d-c66b6e8d8e13",
      "metadata": {
        "trusted": true
      },
      "outputs": [
        {
          "name": "stdout",
          "output_type": "stream",
          "text": [
            "Class distribution in Training Dataset:\n",
            "apple          77\n",
            "banana         79\n",
            "blackgram      80\n",
            "chickpea       74\n",
            "coconut        73\n",
            "coffee         83\n",
            "cotton         83\n",
            "grapes         86\n",
            "jute           77\n",
            "kidneybeans    80\n",
            "lentil         89\n",
            "maize          79\n",
            "mango          81\n",
            "mothbeans      76\n",
            "mungbean       81\n",
            "muskmelon      83\n",
            "orange         86\n",
            "papaya         77\n",
            "pigeonpeas     77\n",
            "pomegranate    77\n",
            "rice           81\n",
            "watermelon     81\n",
            "Name: count, dtype: int64\n",
            "\n",
            "Class distribution in Testing Dataset:\n",
            "apple          23\n",
            "banana         21\n",
            "blackgram      20\n",
            "chickpea       26\n",
            "coconut        27\n",
            "coffee         17\n",
            "cotton         17\n",
            "grapes         14\n",
            "jute           23\n",
            "kidneybeans    20\n",
            "lentil         11\n",
            "maize          21\n",
            "mango          19\n",
            "mothbeans      24\n",
            "mungbean       19\n",
            "muskmelon      17\n",
            "orange         14\n",
            "papaya         23\n",
            "pigeonpeas     23\n",
            "pomegranate    23\n",
            "rice           19\n",
            "watermelon     19\n",
            "Name: count, dtype: int64\n"
          ]
        }
      ],
      "source": [
        "X = df.drop('label', axis=1)\n",
        "y = df['label']\n",
        "\n",
        "# # Scale the features using StandardScaler\n",
        "# scaler = StandardScaler()\n",
        "# X_scaled = pd.DataFrame(scaler.fit_transform(X), columns=X.columns)\n",
        "\n",
        "\n",
        "\n",
        "X_train, X_test, y_train, y_test = train_test_split(X, y, test_size=0.2, random_state=42)\n",
        "# Count of each class in training labels\n",
        "train_counts = pd.Series(y_train).value_counts().sort_index()\n",
        "\n",
        "# Map encoded labels back to class names\n",
        "train_counts.index = le.inverse_transform(train_counts.index)\n",
        "\n",
        "# Count of each class in testing labels\n",
        "test_counts = pd.Series(y_test).value_counts().sort_index()\n",
        "test_counts.index = le.inverse_transform(test_counts.index)\n",
        "\n",
        "print(\"Class distribution in Training Dataset:\")\n",
        "print(train_counts)\n",
        "\n",
        "print(\"\\nClass distribution in Testing Dataset:\")\n",
        "print(test_counts)\n",
        "\n",
        "scaler = StandardScaler()\n",
        "X_train_scaled = scaler.fit_transform(X_train)\n",
        "X_test_scaled = scaler.transform(X_test)"
      ]
    },
    {
      "cell_type": "code",
      "execution_count": 5,
      "id": "0e0c9d10-aeb8-441b-8487-fa5a24b4b8d6",
      "metadata": {
        "trusted": true
      },
      "outputs": [
        {
          "name": "stdout",
          "output_type": "stream",
          "text": [
            "\n",
            "\tDecision Tree Classification Report\n",
            "\n",
            "              precision    recall  f1-score   support\n",
            "\n",
            "       apple       1.00      1.00      1.00        23\n",
            "      banana       1.00      1.00      1.00        21\n",
            "   blackgram       0.95      1.00      0.98        20\n",
            "    chickpea       1.00      1.00      1.00        26\n",
            "     coconut       0.96      1.00      0.98        27\n",
            "      coffee       1.00      1.00      1.00        17\n",
            "      cotton       1.00      1.00      1.00        17\n",
            "      grapes       1.00      1.00      1.00        14\n",
            "        jute       0.92      0.96      0.94        23\n",
            " kidneybeans       1.00      1.00      1.00        20\n",
            "      lentil       0.92      1.00      0.96        11\n",
            "       maize       1.00      0.95      0.98        21\n",
            "       mango       1.00      1.00      1.00        19\n",
            "   mothbeans       1.00      0.92      0.96        24\n",
            "    mungbean       1.00      1.00      1.00        19\n",
            "   muskmelon       1.00      1.00      1.00        17\n",
            "      orange       1.00      1.00      1.00        14\n",
            "      papaya       1.00      1.00      1.00        23\n",
            "  pigeonpeas       1.00      1.00      1.00        23\n",
            " pomegranate       1.00      1.00      1.00        23\n",
            "        rice       0.94      0.89      0.92        19\n",
            "  watermelon       1.00      1.00      1.00        19\n",
            "\n",
            "    accuracy                           0.99       440\n",
            "   macro avg       0.99      0.99      0.99       440\n",
            "weighted avg       0.99      0.99      0.99       440\n",
            "\n",
            "\n",
            "Decision Tree Model Evaluation\n",
            "Accuracy : 0.9864\n",
            "Precision: 0.9861\n",
            "Recall   : 0.9873\n",
            "F1 Score : 0.9864\n"
          ]
        }
      ],
      "source": [
        "dt = DecisionTreeClassifier(random_state=42)\n",
        "dt.fit(X_train_scaled, y_train)\n",
        "\n",
        "# Predict on test set\n",
        "y_pred = dt.predict(X_test_scaled)\n",
        "\n",
        "# Evaluate model\n",
        "accuracy = accuracy_score(y_test, y_pred)\n",
        "precision = precision_score(y_test, y_pred, average='macro', zero_division=0)\n",
        "recall = recall_score(y_test, y_pred, average='macro', zero_division=0)\n",
        "f1 = f1_score(y_test, y_pred, average='macro', zero_division=0)\n",
        "\n",
        "print(\"\\n\\tDecision Tree Classification Report\\n\")\n",
        "print(classification_report(y_test, y_pred, target_names=le.classes_, zero_division=0))\n",
        "\n",
        "print(\"\\nDecision Tree Model Evaluation\")\n",
        "print(f\"Accuracy : {accuracy:.4f}\")\n",
        "print(f\"Precision: {precision:.4f}\")\n",
        "print(f\"Recall   : {recall:.4f}\")\n",
        "print(f\"F1 Score : {f1:.4f}\")\n"
      ]
    },
    {
      "cell_type": "code",
      "execution_count": 6,
      "id": "060a07a9-cf45-4ae6-9e53-1ed66cc6383d",
      "metadata": {
        "trusted": true
      },
      "outputs": [
        {
          "name": "stdout",
          "output_type": "stream",
          "text": [
            "\n",
            "Enter the following inputs:\n"
          ]
        },
        {
          "name": "stdout",
          "output_type": "stream",
          "text": [
            "Nitrogen (N):  2\n",
            "Phosphorus (P):  32\n",
            "Potassium (K):  45\n",
            "Temperature (°C):  32\n",
            "Humidity (%):  82\n",
            "pH:  5.03\n",
            "Rainfall (mm):  203.5\n"
          ]
        },
        {
          "name": "stdout",
          "output_type": "stream",
          "text": [
            "Predicted Crop: coconut\n"
          ]
        }
      ],
      "source": [
        "print(\"\\nEnter the following inputs:\")\n",
        "\n",
        "features = [\"Nitrogen (N)\", \"Phosphorus (P)\", \"Potassium (K)\", \"Temperature (°C)\",\n",
        "            \"Humidity (%)\", \"pH\", \"Rainfall (mm)\"]\n",
        "\n",
        "user_input = []\n",
        "for feature in features:\n",
        "    value = float(input(f\"{feature}: \"))\n",
        "    user_input.append(value)\n",
        "\n",
        "input_df = pd.DataFrame([user_input], columns=X.columns)\n",
        "\n",
        "# Scale user input with the same scaler\n",
        "input_scaled = scaler.transform(input_df)\n",
        "\n",
        "# Predict label\n",
        "prediction = dt.predict(input_scaled)\n",
        "predicted_crop = le.inverse_transform(prediction)[0]\n",
        "\n",
        "print(\"Predicted Crop:\", predicted_crop)"
      ]
    },
    {
      "cell_type": "code",
      "execution_count": null,
      "id": "b8bd71ae-6202-47f1-baa5-865708188fcb",
      "metadata": {
        "trusted": true
      },
      "outputs": [],
      "source": []
    }
  ],
  "metadata": {
    "kernelspec": {
      "display_name": "Python (Pyodide)",
      "language": "python",
      "name": "python"
    },
    "language_info": {
      "codemirror_mode": {
        "name": "python",
        "version": 3
      },
      "file_extension": ".py",
      "mimetype": "text/x-python",
      "name": "python",
      "nbconvert_exporter": "python",
      "pygments_lexer": "ipython3",
      "version": "3.8"
    }
  },
  "nbformat": 4,
  "nbformat_minor": 5
}
